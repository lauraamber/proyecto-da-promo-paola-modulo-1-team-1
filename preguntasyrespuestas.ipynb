{
 "cells": [
  {
   "cell_type": "markdown",
   "id": "579c59b0",
   "metadata": {},
   "source": [
    "# 1 PARTE\n",
    "\n",
    "## Bienvenida\n",
    "\n",
    "Presentacion del juego \n"
   ]
  },
  {
   "cell_type": "markdown",
   "id": "5c478633",
   "metadata": {},
   "source": [
    "# 2 PARTE\n",
    "\n",
    "## Reglas del Juego\n",
    "\n",
    "Explicacion como se juega:\n",
    "\n",
    "\n",
    "Reglas del Juego de \"Preguntas y Respuestas de Geografía\":\n",
    "\n",
    "- El juego consiste en hacer preguntas de geografía y que el jugador adivine la respuesta correcta.\n",
    "- Cada pregunta tiene una respuesta única y correcta.\n",
    "- El jugador tiene un número limitado de intentos para responder correctamente a cada pregunta.\n",
    "- El juego sigue hasta que el jugador responda incorrectamente 3 de veces o haya respondido 5 preguntas correctamente.\n",
    "\n",
    "Pistas para las alumnas:\n",
    "\n",
    "1. Comienza creando un diccionario que contenga preguntas de geografía como claves y respuestas como valores.\n",
    "2. Implementa una función para seleccionar una pregunta aleatoria del diccionario.\n",
    "3. Utiliza un bucle `while` para hacer preguntas de geografía hasta que el jugador responda un número específico de preguntas correctamente o alcance un número máximo de respuestas incorrectas.\n",
    "4. Dentro del bucle, presenta la pregunta al jugador y permita que ingresen sus respuestas.\n",
    "5. Lleva un seguimiento del número de preguntas realizadas y el número de respuestas correctas.\n",
    "6. Determina las condiciones de victoria y derrota del juego y sal del bucle cuando se cumplan estas condiciones."
   ]
  },
  {
   "cell_type": "markdown",
   "id": "c6079969",
   "metadata": {},
   "source": []
  }
 ],
 "metadata": {
  "language_info": {
   "name": "python"
  }
 },
 "nbformat": 4,
 "nbformat_minor": 5
}
