{
 "cells": [
  {
   "cell_type": "code",
   "execution_count": 15,
   "metadata": {},
   "outputs": [],
   "source": [
    "# importamos bibliotecas necesarias\n",
    "\n",
    "import random"
   ]
  },
  {
   "cell_type": "code",
   "execution_count": 16,
   "metadata": {},
   "outputs": [],
   "source": [
    "# cargamos palabras para el caso de que queramos jugar contra\n",
    "# la máquina. En este caso, la máquina siempre será quien elija\n",
    "# la palabra. Son las 100 palabras más comunes del castellano\n",
    "\n",
    "def cargar_palabras(archivo_crudo=\"palabras_ahorcado.txt\"): # archivo_crudo indica dónde están las palabras\n",
    "    with open(archivo_crudo, \"r\", encoding=\"utf-8\") as archivo: # ponemos \"r\" para indicar que solo queremos leer el contenido\n",
    "        lineas = archivo.readlines() #.readlines() es un método para archivos\n",
    "    palabras = [linea.strip() for linea in lineas if linea.strip()] # recorre cada línea de la lista lineas(del read.lines()\n",
    "                                                                    # con .strip() se elimina espacios y saltos de línea\n",
    "                                                                    # \"if linea.strip()\" es para descartar líneas con espacios o vacías\n",
    "    return random.choice(palabras)\n",
    "\n",
    "def actualizar_tablero(letra, palabra, tablero):\n",
    "    coincidencias = 0\n",
    "    # recorremos la palabra por índice para ver en qué posición va la letra (si va)\n",
    "    for i in range(len(palabra)):\n",
    "        if palabra[i] == letra: # si la letra está en el índdice de letras de la palabra\n",
    "            tablero[i] = letra # si está la palabra en alguna de las posiciones del índice, actualizamos el tablero\n",
    "            coincidencias +=1\n",
    "    return coincidencias > 0 # se devuelve True si hay alguna coincidencia o False si no se encuentra la letra en la palabra\n",
    "\n",
    "def juego_ganado(tablero): \n",
    "    return \"_\" not in tablero #devuelve True si no hay ningún guion bajo, lo que quiere decir que la palabra está completa"
   ]
  },
  {
   "cell_type": "code",
   "execution_count": 17,
   "metadata": {},
   "outputs": [],
   "source": [
    "# con esto se inicia el juego\n",
    "\n",
    "palabra = cargar_palabras(\"palabras_ahorcado.txt\")\n",
    "tablero = [\"_\"] * len(palabra)\n",
    "letras_incorrectas = []\n",
    "intentos_maximos = 10\n",
    "intentos_fallidos = 0 "
   ]
  },
  {
   "cell_type": "code",
   "execution_count": null,
   "metadata": {},
   "outputs": [],
   "source": [
    "while \"_\" in tablero and intentos_fallidos < intentos_maximos:\n",
    "    print(\"Palabra:\", \" \".join(tablero)) # coge cada elemento de la lista y lo une en un solo string\n",
    "    print(f\"Letras incorrectas: {' '.join(letras_incorrectas)}\") # aquí usamos .join() para que no quede tan feo para el usuario con corchetes y comas\n",
    "    print(f\"Intentos restantes: {intentos_maximos - intentos_fallidos}\") # nos cuenta cuántos intentos nos quedan\n",
    "    \n",
    "    letra = input(\"Adivina una letra: \").lower().strip() # nos aseguramos de que no hay errores m/M\n",
    "\n",
    "    if letra == \"salir\": # para salirnos del juego\n",
    "        print(\"Has salido del juego.\")\n",
    "        break\n",
    "\n",
    "    if not letra.isalpha() or len(letra) != 1: # para controlar caracteres raros\n",
    "        print(\"Introduce solo una letra válida.\")\n",
    "        continue\n",
    "\n",
    "    if letra in tablero or letra in letras_incorrectas: # en caso de que se repita la letra\n",
    "        print(\"Ya usaste esa letra.\")\n",
    "        continue\n",
    "\n",
    "    fue_acierto = actualizar_tablero(letra, palabra, tablero)\n",
    "\n",
    "    if fue_acierto:\n",
    "        print(\"¡Bien hecho! La letra está en la palabra.\")\n",
    "    else:\n",
    "        print(\"Letra incorrecta.\")\n",
    "        letras_incorrectas.append(letra) # añadimos la letra a la lista de letras incorrectas\n",
    "        intentos_fallidos += 1 # sumamos el intento fallido\n",
    "\n",
    "# Fin del juego\n",
    "if juego_ganado(tablero):\n",
    "    print(\"¡Ganaste! La palabra era:\", palabra)\n",
    "else:\n",
    "    print(\"¡Perdiste! La palabra era:\", palabra)"
   ]
  }
 ],
 "metadata": {
  "kernelspec": {
   "display_name": "base",
   "language": "python",
   "name": "python3"
  },
  "language_info": {
   "codemirror_mode": {
    "name": "ipython",
    "version": 3
   },
   "file_extension": ".py",
   "mimetype": "text/x-python",
   "name": "python",
   "nbconvert_exporter": "python",
   "pygments_lexer": "ipython3",
   "version": "3.12.7"
  }
 },
 "nbformat": 4,
 "nbformat_minor": 2
}
